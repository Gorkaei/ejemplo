{
 "cells": [
  {
   "cell_type": "code",
   "execution_count": 1,
   "metadata": {},
   "outputs": [],
   "source": [
    "import re\n",
    "from nltk.util import ngrams\n",
    "\n"
   ]
  },
  {
   "cell_type": "code",
   "execution_count": 2,
   "metadata": {},
   "outputs": [],
   "source": [
    "s = \"\"\"Area del aprendizaje automatico donde gracias a las redes neuronales artificiales obtenemos conocimiento de grandes volumenes de datos\"\"\""
   ]
  },
  {
   "cell_type": "code",
   "execution_count": 20,
   "metadata": {},
   "outputs": [],
   "source": [
    "s = s.lower()\n",
    "s = re.sub(r'[^a-zA-Z0-9\\s]', ' ', s)\n",
    "tokens = [token for token in s.split(\" \") if token != \"\"]\n",
    "output = list(ngrams(tokens, 3))"
   ]
  },
  {
   "cell_type": "code",
   "execution_count": 21,
   "metadata": {},
   "outputs": [
    {
     "data": {
      "text/plain": [
       "[('area', 'del', 'aprendizaje'),\n",
       " ('del', 'aprendizaje', 'automatico'),\n",
       " ('aprendizaje', 'automatico', 'donde'),\n",
       " ('automatico', 'donde', 'gracias'),\n",
       " ('donde', 'gracias', 'a'),\n",
       " ('gracias', 'a', 'las'),\n",
       " ('a', 'las', 'redes'),\n",
       " ('las', 'redes', 'neuronales'),\n",
       " ('redes', 'neuronales', 'artificiales'),\n",
       " ('neuronales', 'artificiales', 'obtenemos'),\n",
       " ('artificiales', 'obtenemos', 'conocimiento'),\n",
       " ('obtenemos', 'conocimiento', 'de'),\n",
       " ('conocimiento', 'de', 'grandes'),\n",
       " ('de', 'grandes', 'volumenes'),\n",
       " ('grandes', 'volumenes', 'de'),\n",
       " ('volumenes', 'de', 'datos')]"
      ]
     },
     "execution_count": 21,
     "metadata": {},
     "output_type": "execute_result"
    }
   ],
   "source": [
    "output"
   ]
  },
  {
   "cell_type": "code",
   "execution_count": null,
   "metadata": {},
   "outputs": [],
   "source": []
  }
 ],
 "metadata": {
  "kernelspec": {
   "display_name": "Python 3",
   "language": "python",
   "name": "python3"
  },
  "language_info": {
   "codemirror_mode": {
    "name": "ipython",
    "version": 3
   },
   "file_extension": ".py",
   "mimetype": "text/x-python",
   "name": "python",
   "nbconvert_exporter": "python",
   "pygments_lexer": "ipython3",
   "version": "3.8.3"
  }
 },
 "nbformat": 4,
 "nbformat_minor": 4
}
